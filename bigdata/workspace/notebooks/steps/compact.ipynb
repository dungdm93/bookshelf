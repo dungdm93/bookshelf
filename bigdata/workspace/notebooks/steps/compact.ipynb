{
 "cells": [
  {
   "cell_type": "code",
   "execution_count": 1,
   "metadata": {},
   "outputs": [],
   "source": [
    "import os\n",
    "import sys\n",
    "\n",
    "import pyspark\n",
    "from pyspark import SparkConf\n",
    "from pyspark.sql import SparkSession\n",
    "import pyspark.sql.functions as F"
   ]
  },
  {
   "cell_type": "code",
   "execution_count": 2,
   "metadata": {},
   "outputs": [],
   "source": [
    "s3_conf = {\n",
    "    \"spark.hadoop.fs.s3a.endpoint\":          \"http://minio:9000\",\n",
    "    \"spark.hadoop.fs.s3a.impl\":              \"org.apache.hadoop.fs.s3a.S3AFileSystem\",\n",
    "    \"spark.hadoop.fs.s3a.access.key\":        \"admin\",\n",
    "    \"spark.hadoop.fs.s3a.secret.key\":        \"SuperSecr3t\",\n",
    "    \"spark.hadoop.fs.s3a.path.style.access\": True,\n",
    "}"
   ]
  },
  {
   "cell_type": "code",
   "execution_count": 3,
   "metadata": {},
   "outputs": [],
   "source": [
    "spark_version = pyspark.version.__version__\n",
    "packages = [\n",
    "    f\"org.apache.spark:spark-avro_2.11:{spark_version}\",\n",
    "]"
   ]
  },
  {
   "cell_type": "code",
   "execution_count": 4,
   "metadata": {},
   "outputs": [
    {
     "data": {
      "text/plain": [
       "<pyspark.conf.SparkConf at 0x7fd070076d10>"
      ]
     },
     "execution_count": 4,
     "metadata": {},
     "output_type": "execute_result"
    }
   ],
   "source": [
    "conf = SparkConf()\n",
    "conf.setAll(s3_conf.items())\n",
    "conf.set(\"spark.jars.packages\", \",\".join(packages))"
   ]
  },
  {
   "cell_type": "code",
   "execution_count": 5,
   "metadata": {},
   "outputs": [],
   "source": [
    "spark = SparkSession.builder\\\n",
    "        .appName(\"Avro sample\")\\\n",
    "        .config(conf=conf)\\\n",
    "        .getOrCreate()"
   ]
  },
  {
   "cell_type": "markdown",
   "metadata": {},
   "source": [
    "# Read Arvo file"
   ]
  },
  {
   "cell_type": "code",
   "execution_count": 6,
   "metadata": {},
   "outputs": [],
   "source": [
    "df = spark.read.format(\"avro\").load(\"s3a://kafka/topics/sample_mysql.sakila.actor\")"
   ]
  },
  {
   "cell_type": "code",
   "execution_count": 7,
   "metadata": {},
   "outputs": [
    {
     "name": "stdout",
     "output_type": "stream",
     "text": [
      "+--------+----------+-----------+--------------------+---------+\n",
      "|actor_id|first_name|last_name  |last_update         |partition|\n",
      "+--------+----------+-----------+--------------------+---------+\n",
      "|111     |CAMERON   |ZELLWEGER  |2006-02-15T04:34:33Z|0        |\n",
      "|112     |RUSSELL   |BACALL     |2006-02-15T04:34:33Z|0        |\n",
      "|113     |MORGAN    |HOPKINS    |2006-02-15T04:34:33Z|0        |\n",
      "|114     |MORGAN    |MCDORMAND  |2006-02-15T04:34:33Z|0        |\n",
      "|115     |HARRISON  |BALE       |2006-02-15T04:34:33Z|0        |\n",
      "|116     |DAN       |STREEP     |2006-02-15T04:34:33Z|0        |\n",
      "|117     |RENEE     |TRACY      |2006-02-15T04:34:33Z|0        |\n",
      "|118     |CUBA      |ALLEN      |2006-02-15T04:34:33Z|0        |\n",
      "|119     |WARREN    |JACKMAN    |2006-02-15T04:34:33Z|0        |\n",
      "|120     |PENELOPE  |MONROE     |2006-02-15T04:34:33Z|0        |\n",
      "|61      |CHRISTIAN |NEESON     |2006-02-15T04:34:33Z|0        |\n",
      "|62      |JAYNE     |NEESON     |2006-02-15T04:34:33Z|0        |\n",
      "|63      |CAMERON   |WRAY       |2006-02-15T04:34:33Z|0        |\n",
      "|64      |RAY       |JOHANSSON  |2006-02-15T04:34:33Z|0        |\n",
      "|65      |ANGELA    |HUDSON     |2006-02-15T04:34:33Z|0        |\n",
      "|66      |MARY      |TANDY      |2006-02-15T04:34:33Z|0        |\n",
      "|67      |JESSICA   |BAILEY     |2006-02-15T04:34:33Z|0        |\n",
      "|68      |RIP       |WINSLET    |2006-02-15T04:34:33Z|0        |\n",
      "|69      |KENNETH   |PALTROW    |2006-02-15T04:34:33Z|0        |\n",
      "|70      |MICHELLE  |MCCONAUGHEY|2006-02-15T04:34:33Z|0        |\n",
      "+--------+----------+-----------+--------------------+---------+\n",
      "only showing top 20 rows\n",
      "\n"
     ]
    }
   ],
   "source": [
    "df.show(truncate=False)"
   ]
  },
  {
   "cell_type": "code",
   "execution_count": 8,
   "metadata": {},
   "outputs": [],
   "source": [
    "df = df.coalesce(1)"
   ]
  },
  {
   "cell_type": "code",
   "execution_count": 7,
   "metadata": {},
   "outputs": [],
   "source": [
    "df.write.format(\"avro\").save(\"s3a://raw/sakila/actor\", mode=\"overwrite\")"
   ]
  },
  {
   "cell_type": "code",
   "execution_count": 8,
   "metadata": {},
   "outputs": [
    {
     "data": {
      "text/html": [
       "\n",
       "            <div>\n",
       "                <p><b>SparkSession - in-memory</b></p>\n",
       "                \n",
       "        <div>\n",
       "            <p><b>SparkContext</b></p>\n",
       "\n",
       "            <p><a href=\"http://d8e4f57a488f:4040\">Spark UI</a></p>\n",
       "\n",
       "            <dl>\n",
       "              <dt>Version</dt>\n",
       "                <dd><code>v2.4.4</code></dd>\n",
       "              <dt>Master</dt>\n",
       "                <dd><code>local[*]</code></dd>\n",
       "              <dt>AppName</dt>\n",
       "                <dd><code>Avro sample</code></dd>\n",
       "            </dl>\n",
       "        </div>\n",
       "        \n",
       "            </div>\n",
       "        "
      ],
      "text/plain": [
       "<pyspark.sql.session.SparkSession at 0x7fd06772aed0>"
      ]
     },
     "execution_count": 8,
     "metadata": {},
     "output_type": "execute_result"
    }
   ],
   "source": [
    "spark"
   ]
  },
  {
   "cell_type": "code",
   "execution_count": null,
   "metadata": {},
   "outputs": [],
   "source": []
  }
 ],
 "metadata": {
  "kernelspec": {
   "display_name": "Python 3",
   "language": "python",
   "name": "python3"
  },
  "language_info": {
   "codemirror_mode": {
    "name": "ipython",
    "version": 3
   },
   "file_extension": ".py",
   "mimetype": "text/x-python",
   "name": "python",
   "nbconvert_exporter": "python",
   "pygments_lexer": "ipython3",
   "version": "3.7.4"
  }
 },
 "nbformat": 4,
 "nbformat_minor": 4
}
