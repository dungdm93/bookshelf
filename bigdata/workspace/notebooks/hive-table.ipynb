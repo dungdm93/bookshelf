{
 "cells": [
  {
   "cell_type": "code",
   "execution_count": 1,
   "metadata": {},
   "outputs": [],
   "source": [
    "import os\n",
    "from pyspark.sql import SparkSession"
   ]
  },
  {
   "cell_type": "markdown",
   "metadata": {},
   "source": [
    "# Configurations"
   ]
  },
  {
   "cell_type": "code",
   "execution_count": 2,
   "metadata": {},
   "outputs": [],
   "source": [
    "minioConfigs = {\n",
    "    \"spark.hadoop.fs.s3a.impl\":                \"org.apache.hadoop.fs.s3a.S3AFileSystem\",\n",
    "    \"spark.hadoop.fs.s3a.endpoint\":            \"http://minio:9000\",\n",
    "    \"spark.hadoop.fs.s3a.access.key\":          \"admin\",\n",
    "    \"spark.hadoop.fs.s3a.secret.key\":          \"SuperSecr3t\",\n",
    "    \"spark.hadoop.fs.s3a.path.style.access\":   True\n",
    "}"
   ]
  },
  {
   "cell_type": "code",
   "execution_count": 3,
   "metadata": {},
   "outputs": [],
   "source": [
    "packages = [\n",
    "    # 'org.apache.hadoop:hadoop-aws:2.7.3'          # => static jars\n",
    "\n",
    "    # 'com.amazonaws:aws-java-sdk-s3:1.11.234',     # API incompatible\n",
    "    # 'com.amazonaws:aws-java-sdk-bundle:1.11.234', # 60M+, API incompatible\n",
    "    # 'com.amazonaws:aws-java-sdk-bundle:1.7.4',    # no-such package\n",
    "    # 'com.amazonaws:aws-java-sdk:1.7.4',           # not working\n",
    "\n",
    "    #'org.apache.hive:hive-cli:1.2.1',\n",
    "    #'org.apache.hive:hive-beeline:1.2.1',\n",
    "    'org.apache.spark:spark-hive_2.11:2.4.4',\n",
    "    'org.apache.spark:spark-hive-thriftserver_2.11:2.4.4'\n",
    "]\n",
    "\n",
    "excludes = [\n",
    "    'com.fasterxml.jackson.core:jackson-annotations',\n",
    "    'com.fasterxml.jackson.core:jackson-core',\n",
    "    'com.fasterxml.jackson.core:jackson-databind',\n",
    "    'com.fasterxml.jackson.dataformat:jackson-dataformat-cbor',\n",
    "    'commons-cli:commons-cli',\n",
    "    'commons-io:commons-io',\n",
    "    'commons-lang:commons-lang',\n",
    "    'commons-codec:commons-codec',\n",
    "    'commons-logging:commons-logging',\n",
    "    'joda-time:joda-time',\n",
    "    'org.apache.httpcomponents:httpclient',\n",
    "    'org.apache.httpcomponents:httpcore',\n",
    "]\n",
    "\n",
    "jars = [\n",
    "    #'/home/jovyan/work/jars/*'\n",
    "    #'/home/jovyan/.ivy2/jars/org.apache.hive*'\n",
    "    '/home/jovyan/.ivy2/jars/*hive*'\n",
    "]"
   ]
  },
  {
   "cell_type": "code",
   "execution_count": 4,
   "metadata": {},
   "outputs": [
    {
     "data": {
      "text/plain": [
       "<pyspark.conf.SparkConf at 0x7f2c016da510>"
      ]
     },
     "execution_count": 4,
     "metadata": {},
     "output_type": "execute_result"
    }
   ],
   "source": [
    "from pyspark import SparkConf\n",
    "\n",
    "conf = SparkConf()\n",
    "conf.setAll(minioConfigs.items())\n",
    "conf.set(\"spark.jars\", \",\".join(jars))\n",
    "#conf.set(\"spark.jars.packages\", \",\".join(packages))\n",
    "#conf.set(\"spark.jars.excludes\", \",\".join(excludes))"
   ]
  },
  {
   "cell_type": "code",
   "execution_count": 5,
   "metadata": {},
   "outputs": [],
   "source": [
    "spark = SparkSession.builder\\\n",
    "        .appName(\"Teko::HiveQL\")\\\n",
    "        .config(conf=conf)\\\n",
    "        .enableHiveSupport()\\\n",
    "        .getOrCreate()"
   ]
  },
  {
   "cell_type": "markdown",
   "metadata": {},
   "source": [
    "# Read dataframe from MinIO"
   ]
  },
  {
   "cell_type": "code",
   "execution_count": 6,
   "metadata": {},
   "outputs": [],
   "source": [
    "df = spark.read.parquet(\"s3a://dwh/actor\")"
   ]
  },
  {
   "cell_type": "code",
   "execution_count": null,
   "metadata": {},
   "outputs": [],
   "source": []
  }
 ],
 "metadata": {
  "kernelspec": {
   "display_name": "Python 3",
   "language": "python",
   "name": "python3"
  },
  "language_info": {
   "codemirror_mode": {
    "name": "ipython",
    "version": 3
   },
   "file_extension": ".py",
   "mimetype": "text/x-python",
   "name": "python",
   "nbconvert_exporter": "python",
   "pygments_lexer": "ipython3",
   "version": "3.7.4"
  }
 },
 "nbformat": 4,
 "nbformat_minor": 4
}
