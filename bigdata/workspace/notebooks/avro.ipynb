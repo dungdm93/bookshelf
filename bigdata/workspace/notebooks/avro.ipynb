{
 "cells": [
  {
   "cell_type": "code",
   "execution_count": 1,
   "metadata": {},
   "outputs": [],
   "source": [
    "import os\n",
    "import sys\n",
    "\n",
    "import pyspark\n",
    "from pyspark import SparkConf\n",
    "from pyspark.sql import SparkSession\n",
    "import pyspark.sql.functions as F"
   ]
  },
  {
   "cell_type": "code",
   "execution_count": 2,
   "metadata": {},
   "outputs": [],
   "source": [
    "spark_version = pyspark.version.__version__\n",
    "packages = [\n",
    "    f\"org.apache.spark:spark-avro_2.11:{spark_version}\",\n",
    "]"
   ]
  },
  {
   "cell_type": "code",
   "execution_count": 3,
   "metadata": {},
   "outputs": [
    {
     "data": {
      "text/plain": [
       "<pyspark.conf.SparkConf at 0x7f62e59aa390>"
      ]
     },
     "execution_count": 3,
     "metadata": {},
     "output_type": "execute_result"
    }
   ],
   "source": [
    "conf = SparkConf()\n",
    "conf.set(\"spark.jars.packages\", \",\".join(packages))"
   ]
  },
  {
   "cell_type": "code",
   "execution_count": 4,
   "metadata": {},
   "outputs": [],
   "source": [
    "spark = SparkSession.builder\\\n",
    "        .appName(\"Avro sample\")\\\n",
    "        .config(conf=conf)\\\n",
    "        .getOrCreate()"
   ]
  },
  {
   "cell_type": "markdown",
   "metadata": {},
   "source": [
    "# Read Arvo file"
   ]
  },
  {
   "cell_type": "code",
   "execution_count": 9,
   "metadata": {},
   "outputs": [],
   "source": [
    "def show_me(df):\n",
    "    df.show(vertical=True)\n",
    "    df.printSchema()"
   ]
  },
  {
   "cell_type": "code",
   "execution_count": 7,
   "metadata": {},
   "outputs": [],
   "source": [
    "df = spark.read.format(\"avro\").load(\"file:///home/jovyan/work/samples/mysql.avro\")"
   ]
  },
  {
   "cell_type": "code",
   "execution_count": 10,
   "metadata": {},
   "outputs": [
    {
     "name": "stdout",
     "output_type": "stream",
     "text": [
      "-RECORD 0---------------------------\n",
      " id          | 1                    \n",
      " T_BIT       | false                \n",
      " T_TINYINT   | 127                  \n",
      " T_SMALLINT  | 32767                \n",
      " T_MEDIUMINT | 8388607              \n",
      " T_INT       | 2147483647           \n",
      " T_BIGINT    | 9223372036854775807  \n",
      " T_BOOL      | 1                    \n",
      " T_DECIMAL   | 1.6180               \n",
      " T_FLOAT     | 2.718280076980591    \n",
      " T_DOUBLE    | 3.141592653589793    \n",
      " T_DATE      | 18314                \n",
      " T_TIME      | 32641000000          \n",
      " T_DATETIME  | 1582362241000        \n",
      " T_TIMESTAMP | 2020-02-22T09:04:01Z \n",
      " T_YEAR      | 2020                 \n",
      " T_CHAR      | 3cc842a              \n",
      " T_VARCHAR   | ec21d22              \n",
      " T_BINARY    | [30 30 63 34 31 6... \n",
      " T_VARBINARY | [31 36 64 66 32 6... \n",
      " T_BLOB      | [34 31 39 62 38 3... \n",
      " T_TEXT      | 2ceb3b748025cbf80... \n",
      " T_ENUM      | MON                  \n",
      " T_SET       | b,d                  \n",
      " T_JSON      | [\"abc\", 10, null,... \n",
      "\n",
      "root\n",
      " |-- id: long (nullable = true)\n",
      " |-- T_BIT: boolean (nullable = true)\n",
      " |-- T_TINYINT: integer (nullable = true)\n",
      " |-- T_SMALLINT: integer (nullable = true)\n",
      " |-- T_MEDIUMINT: integer (nullable = true)\n",
      " |-- T_INT: integer (nullable = true)\n",
      " |-- T_BIGINT: long (nullable = true)\n",
      " |-- T_BOOL: integer (nullable = true)\n",
      " |-- T_DECIMAL: decimal(19,4) (nullable = true)\n",
      " |-- T_FLOAT: double (nullable = true)\n",
      " |-- T_DOUBLE: double (nullable = true)\n",
      " |-- T_DATE: integer (nullable = true)\n",
      " |-- T_TIME: long (nullable = true)\n",
      " |-- T_DATETIME: long (nullable = true)\n",
      " |-- T_TIMESTAMP: string (nullable = true)\n",
      " |-- T_YEAR: integer (nullable = true)\n",
      " |-- T_CHAR: string (nullable = true)\n",
      " |-- T_VARCHAR: string (nullable = true)\n",
      " |-- T_BINARY: binary (nullable = true)\n",
      " |-- T_VARBINARY: binary (nullable = true)\n",
      " |-- T_BLOB: binary (nullable = true)\n",
      " |-- T_TEXT: string (nullable = true)\n",
      " |-- T_ENUM: string (nullable = true)\n",
      " |-- T_SET: string (nullable = true)\n",
      " |-- T_JSON: string (nullable = true)\n",
      "\n"
     ]
    }
   ],
   "source": [
    "show_me(df)"
   ]
  },
  {
   "cell_type": "code",
   "execution_count": null,
   "metadata": {},
   "outputs": [],
   "source": [
    "df2 = df.withColumn(\"payment_date\", F.to_timestamp(\"payment_date\"))\\\n",
    "        .withColumn(\"last_update\", F.to_timestamp(\"last_update\"))"
   ]
  },
  {
   "cell_type": "code",
   "execution_count": null,
   "metadata": {},
   "outputs": [],
   "source": [
    "show_me(df2)"
   ]
  },
  {
   "cell_type": "code",
   "execution_count": null,
   "metadata": {},
   "outputs": [],
   "source": []
  }
 ],
 "metadata": {
  "kernelspec": {
   "display_name": "Python 3",
   "language": "python",
   "name": "python3"
  },
  "language_info": {
   "codemirror_mode": {
    "name": "ipython",
    "version": 3
   },
   "file_extension": ".py",
   "mimetype": "text/x-python",
   "name": "python",
   "nbconvert_exporter": "python",
   "pygments_lexer": "ipython3",
   "version": "3.7.3"
  }
 },
 "nbformat": 4,
 "nbformat_minor": 4
}
