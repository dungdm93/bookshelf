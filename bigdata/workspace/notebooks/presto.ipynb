{
 "cells": [
  {
   "cell_type": "code",
   "execution_count": null,
   "metadata": {},
   "outputs": [],
   "source": [
    "import os\n",
    "from pyspark.sql import SparkSession\n",
    "from pyspark.sql import functions as F"
   ]
  },
  {
   "cell_type": "code",
   "execution_count": null,
   "metadata": {},
   "outputs": [],
   "source": [
    "s3Conf = {\n",
    "    \"spark.hadoop.fs.s3a.endpoint\":   \"http://minio:9000/\",\n",
    "    \"spark.hadoop.fs.s3a.impl\":       \"org.apache.hadoop.fs.s3a.S3AFileSystem\",\n",
    "    \"spark.hadoop.fs.s3a.access.key\": \"admin\",\n",
    "    \"spark.hadoop.fs.s3a.secret.key\": \"SuperSecr3t\",\n",
    "    \"spark.hadoop.fs.s3a.path.style.access\": True,\n",
    "}"
   ]
  },
  {
   "cell_type": "code",
   "execution_count": null,
   "metadata": {},
   "outputs": [],
   "source": [
    "from pyspark import SparkConf\n",
    "\n",
    "conf = SparkConf()\n",
    "conf.setAll(s3Conf.items())"
   ]
  },
  {
   "cell_type": "code",
   "execution_count": null,
   "metadata": {},
   "outputs": [],
   "source": [
    "spark = SparkSession.builder\\\n",
    "        .appName(\"Get DDL\")\\\n",
    "        .master(\"local[4]\")\\\n",
    "        .config(conf=conf)\\\n",
    "        .getOrCreate()"
   ]
  },
  {
   "cell_type": "markdown",
   "metadata": {},
   "source": [
    "# Read Table in MinIO"
   ]
  },
  {
   "cell_type": "code",
   "execution_count": null,
   "metadata": {},
   "outputs": [],
   "source": [
    "type_mapping = {\n",
    "    \"string\": \"varchar\",\n",
    "    \"float\":  \"real\"\n",
    "}"
   ]
  },
  {
   "cell_type": "code",
   "execution_count": null,
   "metadata": {},
   "outputs": [],
   "source": [
    "df = spark.read.parquet(f\"s3a://data-warehouse/nyc-taxi/\")"
   ]
  },
  {
   "cell_type": "code",
   "execution_count": null,
   "metadata": {},
   "outputs": [],
   "source": [
    "for col, dtype in df.dtypes:\n",
    "    if dtype in type_mapping:\n",
    "        dtype = type_mapping[dtype]\n",
    "    print(f\"{col:30} {dtype},\")"
   ]
  },
  {
   "cell_type": "code",
   "execution_count": null,
   "metadata": {},
   "outputs": [],
   "source": [
    "\"\"\"\n",
    "CREATE TABLE \"hive\".\"default\".\"nyc_taxi\" (\n",
    "\n",
    ")\n",
    "with (\n",
    "    external_location = 's3a://data-warehouse/nyc-taxi/',\n",
    "    format = 'PARQUET',\n",
    "    -- partitioned_by = ARRAY['date']\n",
    ")\n",
    "\"\"\""
   ]
  },
  {
   "cell_type": "code",
   "execution_count": null,
   "metadata": {},
   "outputs": [],
   "source": []
  }
 ],
 "metadata": {
  "kernelspec": {
   "display_name": "Python 3",
   "language": "python",
   "name": "python3"
  },
  "language_info": {
   "codemirror_mode": {
    "name": "ipython",
    "version": 3
   },
   "file_extension": ".py",
   "mimetype": "text/x-python",
   "name": "python",
   "nbconvert_exporter": "python",
   "pygments_lexer": "ipython3",
   "version": "3.7.6"
  }
 },
 "nbformat": 4,
 "nbformat_minor": 4
}
