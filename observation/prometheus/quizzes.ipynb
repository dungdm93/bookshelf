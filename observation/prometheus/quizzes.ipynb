{
 "cells": [
  {
   "cell_type": "markdown",
   "metadata": {
    "slideshow": {
     "slide_type": "slide"
    }
   },
   "source": [
    "# I. Basic Info"
   ]
  },
  {
   "cell_type": "markdown",
   "metadata": {
    "slideshow": {
     "slide_type": "slide"
    }
   },
   "source": [
    "1. Chức năng nào không phải main function của Prometheus?\n",
    "\n",
    "  A. Collect Metrics  \n",
    "  B. Store Metrics  \n",
    "  C. Perform Query  \n",
    "  D. Visualization"
   ]
  },
  {
   "cell_type": "markdown",
   "metadata": {
    "slideshow": {
     "slide_type": "slide"
    }
   },
   "source": [
    "2. Prometheus Database thuộc loại nào sau đây?\n",
    "\n",
    "    A. Rational Database  \n",
    "    B. Time-Series Database  \n",
    "    C. Document Database  \n",
    "    D. Graph Database  \n",
    "    E. Key/Value Database  "
   ]
  },
  {
   "cell_type": "markdown",
   "metadata": {
    "slideshow": {
     "slide_type": "slide"
    }
   },
   "source": [
    "# 2. Data Model & Query Language"
   ]
  },
  {
   "cell_type": "markdown",
   "metadata": {
    "slideshow": {
     "slide_type": "slide"
    }
   },
   "source": [
    "4. Nêu tên các thành phần trong metrics sau:\n",
    "```\n",
    "http_requests_total{method=\"POST\", handler=\"/messages\"}   34\n",
    "```"
   ]
  },
  {
   "cell_type": "markdown",
   "metadata": {
    "slideshow": {
     "slide_type": "slide"
    }
   },
   "source": [
    "5. Trong Prometheus Query Language, không có kiểu dữ liệu nào sau đây:\n",
    "\n",
    "    A. float  \n",
    "    B. integer  \n",
    "    C. string  \n",
    "    D. boolean  "
   ]
  },
  {
   "cell_type": "markdown",
   "metadata": {
    "slideshow": {
     "slide_type": "slide"
    }
   },
   "source": [
    "6. Kể tên các metrics type trong Prometheus"
   ]
  },
  {
   "cell_type": "markdown",
   "metadata": {
    "slideshow": {
     "slide_type": "slide"
    }
   },
   "source": [
    "7. Vào prometheus ở cluster k8s-lab, hãy cho biết metrics `prometheus_http_request_duration_seconds` có type là gì"
   ]
  },
  {
   "cell_type": "markdown",
   "metadata": {
    "slideshow": {
     "slide_type": "slide"
    }
   },
   "source": [
    "8. Giả sử bạn develop một webapp (backend), webapp cần expose một số metrics để monitor.  \n",
    "Với mỗi yêu cầu dưới đây, hãy chọn metrics type phù hợp\n",
    "\n",
    "    8.1. `http_request_total`  \n",
    "    8.2. `memory_bytes_used`  \n",
    "    8.3. `requests_time_seconds`  \n",
    "    8.4. `query_duration_seconds`"
   ]
  },
  {
   "cell_type": "markdown",
   "metadata": {
    "slideshow": {
     "slide_type": "slide"
    }
   },
   "source": [
    "Cho metrics sau:\n",
    "```\n",
    "http_request_total{method=\"get\", code=\"307\"}  15\n",
    "http_request_total{method=\"get\", code=\"500\"}  24\n",
    "http_request_total{method=\"get\", code=\"404\"}  30\n",
    "http_request_total{method=\"put\", code=\"501\"}  3\n",
    "http_request_total{method=\"post\", code=\"500\"} 6\n",
    "http_request_total{method=\"post\", code=\"404\"} 21\n",
    "```"
   ]
  },
  {
   "cell_type": "markdown",
   "metadata": {
    "slideshow": {
     "slide_type": "slide"
    }
   },
   "source": [
    "9. Filter metrics  \n",
    "    9.1. có method là `get`  \n",
    "    9.2. client error metrics (4xx)  \n",
    "    9.3. KHÔNG PHẢI client error"
   ]
  },
  {
   "cell_type": "markdown",
   "metadata": {
    "slideshow": {
     "slide_type": "slide"
    }
   },
   "source": [
    "10. Các metrics ở câu 9 có bao nhiêu dimention"
   ]
  },
  {
   "cell_type": "markdown",
   "metadata": {
    "slideshow": {
     "slide_type": "slide"
    }
   },
   "source": [
    "11. Tính tổng request, group by method trong 2m"
   ]
  },
  {
   "cell_type": "markdown",
   "metadata": {
    "slideshow": {
     "slide_type": "slide"
    }
   },
   "source": [
    "12. Tính tổng request client error trong 2m"
   ]
  },
  {
   "cell_type": "markdown",
   "metadata": {
    "slideshow": {
     "slide_type": "slide"
    }
   },
   "source": [
    "13. Tính tỷ lệ request client error / tổng số request trong 2m"
   ]
  },
  {
   "cell_type": "markdown",
   "metadata": {
    "slideshow": {
     "slide_type": "slide"
    }
   },
   "source": [
    "14. Top 2 response code có số lượng request lớn nhất"
   ]
  },
  {
   "cell_type": "markdown",
   "metadata": {
    "slideshow": {
     "slide_type": "slide"
    }
   },
   "source": [
    "## 3. Scraping & Configuration"
   ]
  },
  {
   "cell_type": "markdown",
   "metadata": {
    "slideshow": {
     "slide_type": "slide"
    }
   },
   "source": [
    "Cho 2 target với label như sau:\n",
    "```python\n",
    "__address__=\"10.10.10.1:8080\"\n",
    "__meta_kubernetes_service_label_app=\"echoserver\"\n",
    "__meta_kubernetes_namespace=\"echo-namespace\"\n",
    "__meta_kubernetes_pod_name=\"echoserver-vgkjpq\"\n",
    "metrics_path=\"/metrics\"\n",
    "scheme=\"http\"\n",
    "\n",
    "__address__=\"10.10.10.2:80\"\n",
    "__meta_kubernetes_service_label_app=\"httpbin\"\n",
    "__meta_kubernetes_namespace=\"bin-namespace\"\n",
    "__meta_kubernetes_pod_name=\"httobin-niksjd\"\n",
    "metrics_path=\"/metrics\"\n",
    "scheme=\"http\"\n",
    "```"
   ]
  },
  {
   "cell_type": "markdown",
   "metadata": {
    "slideshow": {
     "slide_type": "slide"
    }
   },
   "source": [
    "Relabel configs:\n",
    "```yaml\n",
    "- source_labels: [__meta_kubernetes_service_label_app]\n",
    "  regex: echoserver\n",
    "  action: keep\n",
    "\n",
    "- source_labels: [__meta_kubernetes_namespace]\n",
    "  separator: ;\n",
    "  regex: (.*)\n",
    "  target_label: namespace\n",
    "  replacement: $1\n",
    "  action: replace\n",
    "\n",
    "- source_labels: [scheme, metrics_path]\n",
    "  action: labeldrop\n",
    "```"
   ]
  },
  {
   "cell_type": "markdown",
   "metadata": {
    "slideshow": {
     "slide_type": "slide"
    }
   },
   "source": [
    "15. Viết target và label của target đó sau khi đã relebel"
   ]
  }
 ],
 "metadata": {
  "celltoolbar": "Slideshow",
  "kernelspec": {
   "display_name": "Python 3",
   "language": "python",
   "name": "python3"
  },
  "language_info": {
   "codemirror_mode": {
    "name": "ipython",
    "version": 3
   },
   "file_extension": ".py",
   "mimetype": "text/x-python",
   "name": "python",
   "nbconvert_exporter": "python",
   "pygments_lexer": "ipython3",
   "version": "3.7.3"
  }
 },
 "nbformat": 4,
 "nbformat_minor": 4
}
